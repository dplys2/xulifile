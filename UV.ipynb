{
 "cells": [
  {
   "cell_type": "code",
   "execution_count": 10,
   "metadata": {},
   "outputs": [],
   "source": [
    "import pandas as pd\n",
    "import numpy as np\n",
    "phut10 = pd.read_csv('Mo0_030.txt', delimiter = ' ', skiprows=1, header=None)\n",
    "X = phut10.iloc[:,0]"
   ]
  },
  {
   "cell_type": "code",
   "execution_count": 11,
   "metadata": {},
   "outputs": [],
   "source": [
    "phut10 = phut10.iloc[:,1]"
   ]
  },
  {
   "cell_type": "code",
   "execution_count": 12,
   "metadata": {},
   "outputs": [],
   "source": [
    "phut0 = pd.read_csv('Mo0_030.txt', delimiter = ' ', skiprows=1, header=None)\n",
    "phut0 = phut0.iloc[:,1]"
   ]
  },
  {
   "cell_type": "code",
   "execution_count": 13,
   "metadata": {},
   "outputs": [],
   "source": [
    "phut20 = pd.read_csv('Mo0_025.txt', delimiter = ' ', skiprows=1, header=None)\n",
    "phut20 = phut20.iloc[:,1]"
   ]
  },
  {
   "cell_type": "code",
   "execution_count": 14,
   "metadata": {},
   "outputs": [],
   "source": [
    "phut30 = pd.read_csv('Mo0_020.txt', delimiter = ' ', skiprows=1, header=None)\n",
    "phut30 = phut30.iloc[:,1]"
   ]
  },
  {
   "cell_type": "code",
   "execution_count": 15,
   "metadata": {},
   "outputs": [],
   "source": [
    "phut40 = pd.read_csv('Mo0_015.txt', delimiter = ' ', skiprows=1, header=None)\n",
    "phut40 = phut40.iloc[:,1]"
   ]
  },
  {
   "cell_type": "code",
   "execution_count": 16,
   "metadata": {},
   "outputs": [],
   "source": [
    "phut50 = pd.read_csv('Mo0_010.txt', delimiter = ' ', skiprows=1, header=None)\n",
    "phut50 = phut50.iloc[:,1]"
   ]
  },
  {
   "cell_type": "code",
   "execution_count": 17,
   "metadata": {},
   "outputs": [],
   "source": [
    "phut60 = pd.read_csv('Mo0_005.txt', delimiter = ' ', skiprows=1, header=None)\n",
    "phut60 = phut60.iloc[:,1]"
   ]
  },
  {
   "cell_type": "code",
   "execution_count": 18,
   "metadata": {},
   "outputs": [],
   "source": [
    "solieu = np.column_stack((X,phut0,phut10,phut20,phut30,phut40,phut50,phut60))\n",
    "df = pd.DataFrame(solieu)\n",
    "df.to_csv(\"UV-VIS.csv\")"
   ]
  },
  {
   "cell_type": "code",
   "execution_count": null,
   "metadata": {},
   "outputs": [],
   "source": []
  }
 ],
 "metadata": {
  "kernelspec": {
   "display_name": "Python 3",
   "language": "python",
   "name": "python3"
  },
  "language_info": {
   "codemirror_mode": {
    "name": "ipython",
    "version": 3
   },
   "file_extension": ".py",
   "mimetype": "text/x-python",
   "name": "python",
   "nbconvert_exporter": "python",
   "pygments_lexer": "ipython3",
   "version": "3.7.3"
  }
 },
 "nbformat": 4,
 "nbformat_minor": 2
}
