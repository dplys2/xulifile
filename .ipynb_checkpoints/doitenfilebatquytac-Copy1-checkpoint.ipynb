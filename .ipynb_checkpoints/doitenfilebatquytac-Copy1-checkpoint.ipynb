{
 "cells": [
  {
   "cell_type": "code",
   "execution_count": 31,
   "metadata": {},
   "outputs": [
    {
     "name": "stdout",
     "output_type": "stream",
     "text": [
      "tetraciline2mM.txt\n",
      "(2,)\n",
      "(1401, 2)\n",
      "tetraciline5mM.txt\n",
      "(3,)\n",
      "(1401, 3)\n",
      "tetreciline 0,005mM.txt\n",
      "(4,)\n",
      "(1401, 4)\n",
      "tetreciline 0,01mMspc.txt\n",
      "(5,)\n",
      "(1401, 5)\n",
      "tetreciline 0,05mM.txt\n",
      "(6,)\n",
      "(1401, 6)\n",
      "tetreciline0,1mM.txt\n",
      "(7,)\n",
      "(1401, 7)\n",
      "tetreciline1mM.txt\n",
      "(8,)\n",
      "(1401, 8)\n"
     ]
    }
   ],
   "source": [
    "#Doi ten file he thong\n",
    "import pandas as pd\n",
    "import numpy as np\n",
    "import os\n",
    "filepath = 'D:\\DataE\\\\332019\\\\text\\\\'\n",
    "a = True\n",
    "dongdau = np.array(['wavelength'])\n",
    "for filename in os.listdir(filepath):\n",
    "    print(filename)\n",
    "    docf = pd.read_csv(filepath + filename, delimiter = ' ', skiprows=2, header=None)\n",
    "    x = docf.iloc[:,1]\n",
    "    if a:\n",
    "        solieu = np.array(docf.iloc[:,0])\n",
    "        a = False\n",
    "    solieu = np.column_stack((solieu, x))\n",
    "    dongdau = np.concatenate((dongdau,[filename]),axis=0)"
   ]
  },
  {
   "cell_type": "code",
   "execution_count": 38,
   "metadata": {},
   "outputs": [
    {
     "name": "stdout",
     "output_type": "stream",
     "text": [
      "[['wavelength' 'tetraciline2mM.txt' 'tetraciline5mM.txt'\n",
      "  'tetreciline 0,005mM.txt' 'tetreciline 0,01mMspc.txt'\n",
      "  'tetreciline 0,05mM.txt' 'tetreciline0,1mM.txt' 'tetreciline1mM.txt']]\n"
     ]
    }
   ],
   "source": [
    "dongdau = dongdau.reshape(1,8)\n",
    "print(dongdau)\n",
    "solieu = np.concatenate((dongdau, solieu), axis=0)"
   ]
  },
  {
   "cell_type": "code",
   "execution_count": 41,
   "metadata": {},
   "outputs": [],
   "source": [
    "df = pd.DataFrame(solieu)\n",
    "df.to_csv(filepath + 'solieu.csv', index = False,  header=False )"
   ]
  },
  {
   "cell_type": "code",
   "execution_count": null,
   "metadata": {},
   "outputs": [],
   "source": []
  }
 ],
 "metadata": {
  "kernelspec": {
   "display_name": "Python 3",
   "language": "python",
   "name": "python3"
  },
  "language_info": {
   "codemirror_mode": {
    "name": "ipython",
    "version": 3
   },
   "file_extension": ".py",
   "mimetype": "text/x-python",
   "name": "python",
   "nbconvert_exporter": "python",
   "pygments_lexer": "ipython3",
   "version": "3.7.3"
  }
 },
 "nbformat": 4,
 "nbformat_minor": 2
}
