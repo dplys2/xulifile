{
 "cells": [
  {
   "cell_type": "code",
   "execution_count": 6,
   "metadata": {},
   "outputs": [
    {
     "name": "stdout",
     "output_type": "stream",
     "text": [
      "D:\\DataE\\20190618\\\n"
     ]
    }
   ],
   "source": [
    "import pandas as pd\n",
    "import numpy as np\n",
    "filepath = 'D:\\DataE\\\\20190618\\\\'\n",
    "filename = 'UV-VIS' + '.txt'\n",
    "print(filepath)\n",
    "docf = pd.read_csv(filepath + 'Mo0_030.txt', delimiter = ' ', skiprows=2, header=None)\n",
    "y = docf.iloc[:,0]\n",
    "\n",
    "x = 1.0*np.zeros([6,y.shape[0]])"
   ]
  },
  {
   "cell_type": "code",
   "execution_count": 50,
   "metadata": {},
   "outputs": [],
   "source": [
    "for i in range(0, 6, 1):\n",
    "    if i==0:\n",
    "        docf = pd.read_csv(filepath + 'Mo0_00' + str((i+1)*5) + '.txt', delimiter = ' ', skiprows=2, header=None)\n",
    "    else:\n",
    "        docf = pd.read_csv(filepath + 'Mo0_0' + str((i+1)*5) + '.txt', delimiter = ' ', skiprows=2, header=None)\n",
    "  \n",
    "    x[i] = docf.iloc[:,1]"
   ]
  },
  {
   "cell_type": "code",
   "execution_count": 51,
   "metadata": {},
   "outputs": [],
   "source": [
    "solieu = np.column_stack((y, x[i]))\n",
    "for i in range(1, 6, 1):\n",
    "    solieu = np.column_stack((solieu, x[i]))\n",
    "    \n",
    "df = pd.DataFrame(solieu)\n",
    "df.to_csv(filepath + filename, index = False)"
   ]
  },
  {
   "cell_type": "code",
   "execution_count": 7,
   "metadata": {},
   "outputs": [
    {
     "name": "stdout",
     "output_type": "stream",
     "text": [
      "D:\\DataE\\20190618\\MB0_005.txt\n",
      "D:\\DataE\\20190618\\MB0_010.txt\n",
      "D:\\DataE\\20190618\\MB0_015.txt\n",
      "D:\\DataE\\20190618\\MB0_020.txt\n",
      "D:\\DataE\\20190618\\MB0_025.txt\n",
      "D:\\DataE\\20190618\\MB0_030.txt\n",
      "D:\\DataE\\20190618\\Mo0_001.txt\n",
      "D:\\DataE\\20190618\\Mo0_002.txt\n",
      "D:\\DataE\\20190618\\Mo0_003.txt\n",
      "D:\\DataE\\20190618\\Mo0_004.txt\n",
      "D:\\DataE\\20190618\\Mo0_005.txt\n",
      "D:\\DataE\\20190618\\Mo0_006.txt\n",
      "D:\\DataE\\20190618\\Mo0_010.txt\n",
      "D:\\DataE\\20190618\\Mo0_015.txt\n",
      "D:\\DataE\\20190618\\Mo0_020.txt\n",
      "D:\\DataE\\20190618\\Mo0_025.txt\n",
      "D:\\DataE\\20190618\\Mo0_030.txt\n",
      "D:\\DataE\\20190618\\UV-VIS.txt\n"
     ]
    }
   ],
   "source": [
    "import glob\n",
    "for fn in glob.glob(filepath + '*.txt'):\n",
    "    print(fn)"
   ]
  },
  {
   "cell_type": "code",
   "execution_count": null,
   "metadata": {},
   "outputs": [],
   "source": []
  }
 ],
 "metadata": {
  "kernelspec": {
   "display_name": "Python 3",
   "language": "python",
   "name": "python3"
  },
  "language_info": {
   "codemirror_mode": {
    "name": "ipython",
    "version": 3
   },
   "file_extension": ".py",
   "mimetype": "text/x-python",
   "name": "python",
   "nbconvert_exporter": "python",
   "pygments_lexer": "ipython3",
   "version": "3.7.3"
  }
 },
 "nbformat": 4,
 "nbformat_minor": 2
}
