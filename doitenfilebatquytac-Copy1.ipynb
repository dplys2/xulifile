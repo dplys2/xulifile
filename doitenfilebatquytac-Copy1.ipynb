{
 "cells": [
  {
   "cell_type": "code",
   "execution_count": 6,
   "metadata": {
    "scrolled": true
   },
   "outputs": [
    {
     "name": "stdout",
     "output_type": "stream",
     "text": [
      "D:\\DataE\\20190705\\MB\\2\n",
      "D:\\DataE\\20190705\\MB\\4\n",
      "D:\\DataE\\20190705\\MB\\6\n",
      "D:\\DataE\\20190705\\MB\\8\n",
      "D:\\DataE\\20190705\\MB\\10\n",
      "D:\\DataE\\20190705\\MB\\12\n"
     ]
    }
   ],
   "source": [
    "#Doi ten file he thong\n",
    "import pandas as pd\n",
    "import numpy as np\n",
    "import os\n",
    "filepath = 'D:\\DataE\\\\20190705\\MB\\\\'\n",
    "docf = pd.read_csv(filepath + '1_1606005U1.TXT', delimiter = ';', skiprows=8, header=None, error_bad_lines=False)\n",
    "solieu= np.array(docf.iloc[:,0])\n",
    "dongdau = np.array(['wavelength'])\n",
    "for i in range(2,13,2):\n",
    "    docf1 = pd.read_csv(filepath + str(i-1) + '_1606005U1.TXT', delimiter = ';', skiprows=8, header=None, error_bad_lines=False)\n",
    "    docf2 = pd.read_csv(filepath + str(i) + '_1606005U1.TXT', delimiter = ';', skiprows=8, header=None, error_bad_lines=False)\n",
    "    x1 = docf1.iloc[:,1]\n",
    "    x2 = docf2.iloc[:,1]\n",
    "    \n",
    "    np.seterr(divide='ignore', invalid='ignore')\n",
    "    xm = np.divide(x2,x1)\n",
    "    y = -np.log10(xm)\n",
    "    \n",
    "    solieu = np.column_stack((solieu, y))\n",
    "    dongdau = np.concatenate((dongdau,['kenh_' + str(i-1)]),axis=0)\n",
    "    \n",
    "    print(filepath + str(i))"
   ]
  },
  {
   "cell_type": "code",
   "execution_count": 7,
   "metadata": {},
   "outputs": [
    {
     "name": "stdout",
     "output_type": "stream",
     "text": [
      "[['wavelength' 'kenh_1' 'kenh_3' 'kenh_5' 'kenh_7' 'kenh_9' 'kenh_11']]\n"
     ]
    }
   ],
   "source": [
    "dongdau = dongdau.reshape(1,7)\n",
    "print(dongdau)\n",
    "solieu = np.concatenate((dongdau, solieu), axis=0)"
   ]
  },
  {
   "cell_type": "code",
   "execution_count": 8,
   "metadata": {},
   "outputs": [],
   "source": [
    "df = pd.DataFrame(solieu)\n",
    "df.to_csv(filepath + 'solieu.csv', index = False,  header=False )"
   ]
  },
  {
   "cell_type": "code",
   "execution_count": 9,
   "metadata": {},
   "outputs": [
    {
     "name": "stdout",
     "output_type": "stream",
     "text": [
      "(1933, 7)\n"
     ]
    }
   ],
   "source": [
    "print(solieu.shape)"
   ]
  },
  {
   "cell_type": "code",
   "execution_count": 2,
   "metadata": {},
   "outputs": [
    {
     "name": "stdout",
     "output_type": "stream",
     "text": [
      "2\n",
      "4\n",
      "6\n",
      "8\n",
      "10\n",
      "12\n"
     ]
    }
   ],
   "source": [
    "for i in range(2,13,2):\n",
    "    print(i)"
   ]
  },
  {
   "cell_type": "code",
   "execution_count": null,
   "metadata": {},
   "outputs": [],
   "source": []
  }
 ],
 "metadata": {
  "kernelspec": {
   "display_name": "Python 3",
   "language": "python",
   "name": "python3"
  },
  "language_info": {
   "codemirror_mode": {
    "name": "ipython",
    "version": 3
   },
   "file_extension": ".py",
   "mimetype": "text/x-python",
   "name": "python",
   "nbconvert_exporter": "python",
   "pygments_lexer": "ipython3",
   "version": "3.7.3"
  }
 },
 "nbformat": 4,
 "nbformat_minor": 2
}
