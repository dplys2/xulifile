{
 "cells": [
  {
   "cell_type": "code",
   "execution_count": 15,
   "metadata": {},
   "outputs": [
    {
     "name": "stdout",
     "output_type": "stream",
     "text": [
      "35A20H_1606005U1.TXT\n",
      "35A40H_1606005U1.TXT\n",
      "Halogen.TXT\n"
     ]
    },
    {
     "name": "stderr",
     "output_type": "stream",
     "text": [
      "C:\\Anaconda3\\lib\\site-packages\\ipykernel_launcher.py:14: RuntimeWarning: divide by zero encountered in log10\n",
      "  \n",
      "C:\\Anaconda3\\lib\\site-packages\\ipykernel_launcher.py:14: RuntimeWarning: invalid value encountered in log10\n",
      "  \n"
     ]
    }
   ],
   "source": [
    "#Doi ten file he thong\n",
    "import pandas as pd\n",
    "import numpy as np\n",
    "import os\n",
    "filepath = 'D:\\DataE\\\\20190704\\\\'\n",
    "docf = pd.read_csv(filepath + 'Halogen.txt', delimiter = ';', skiprows=8, header=None, error_bad_lines=False)\n",
    "y = docf.iloc[:,1]\n",
    "a = True\n",
    "dongdau = np.array(['wavelength'])\n",
    "for filename in os.listdir(filepath):\n",
    "    print(filename)\n",
    "    docf = pd.read_csv(filepath + filename, delimiter = ';', skiprows=8, header=None, error_bad_lines=False)\n",
    "    x = docf.iloc[:,1]\n",
    "    x = -np.log10(x/y)\n",
    "    if a:\n",
    "        solieu = np.array(docf.iloc[:,0])\n",
    "        a = False\n",
    "    solieu = np.column_stack((solieu, x))\n",
    "    dongdau = np.concatenate((dongdau,[filename]),axis=0)"
   ]
  },
  {
   "cell_type": "code",
   "execution_count": 17,
   "metadata": {},
   "outputs": [
    {
     "name": "stdout",
     "output_type": "stream",
     "text": [
      "[['wavelength' '35A20H_1606005U1.TXT' '35A40H_1606005U1.TXT'\n",
      "  'Halogen.TXT']]\n"
     ]
    }
   ],
   "source": [
    "dongdau = dongdau.reshape(1,4)\n",
    "print(dongdau)\n",
    "solieu = np.concatenate((dongdau, solieu), axis=0)"
   ]
  },
  {
   "cell_type": "code",
   "execution_count": 18,
   "metadata": {},
   "outputs": [],
   "source": [
    "df = pd.DataFrame(solieu)\n",
    "df.to_csv(filepath + 'solieu.csv', index = False,  header=False )"
   ]
  },
  {
   "cell_type": "code",
   "execution_count": 19,
   "metadata": {},
   "outputs": [
    {
     "name": "stdout",
     "output_type": "stream",
     "text": [
      "(1933, 4)\n"
     ]
    }
   ],
   "source": [
    "print(solieu.shape)"
   ]
  },
  {
   "cell_type": "code",
   "execution_count": null,
   "metadata": {},
   "outputs": [],
   "source": []
  }
 ],
 "metadata": {
  "kernelspec": {
   "display_name": "Python 3",
   "language": "python",
   "name": "python3"
  },
  "language_info": {
   "codemirror_mode": {
    "name": "ipython",
    "version": 3
   },
   "file_extension": ".py",
   "mimetype": "text/x-python",
   "name": "python",
   "nbconvert_exporter": "python",
   "pygments_lexer": "ipython3",
   "version": "3.7.3"
  }
 },
 "nbformat": 4,
 "nbformat_minor": 2
}
