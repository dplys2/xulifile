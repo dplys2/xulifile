{
 "cells": [
  {
   "cell_type": "code",
   "execution_count": 2,
   "metadata": {},
   "outputs": [
    {
     "name": "stdout",
     "output_type": "stream",
     "text": [
      "D:\\DataE\\20190707\\MO\\mau1_base1.jpg\n",
      "D:\\DataE\\20190707\\MO\\mau2_base1.jpg\n",
      "D:\\DataE\\20190707\\MO\\mau3_base1.jpg\n",
      "D:\\DataE\\20190707\\MO\\mau1_measure2.jpg\n",
      "D:\\DataE\\20190707\\MO\\mau2_measure2.jpg\n",
      "D:\\DataE\\20190707\\MO\\mau3_measure2.jpg\n"
     ]
    }
   ],
   "source": [
    "#Doi ten file he thong\n",
    "\n",
    "import os\n",
    "filepath = 'D:\\DataE\\\\20190707\\\\MO\\\\'\n",
    "i = 1\n",
    "j = 1\n",
    "kt = 'base'\n",
    "for filename in os.listdir(filepath): \n",
    "    dst = filepath + 'mau' + str(i) + '_' + kt + str(j) + \".jpg\" \n",
    "    fn = filepath + filename      \n",
    "    # rename() function will \n",
    "    # rename all the files \n",
    "    os.rename(fn, dst)\n",
    "    i = i + 1\n",
    "    if i==4:\n",
    "        i = 1\n",
    "        j = j + 1\n",
    "        if kt == 'base':\n",
    "            kt = 'measure' #measure\n",
    "        else:\n",
    "            kt = 'base'\n",
    "        if j == 4:\n",
    "            j = 1\n",
    "    print(dst)"
   ]
  },
  {
   "cell_type": "code",
   "execution_count": null,
   "metadata": {},
   "outputs": [],
   "source": []
  }
 ],
 "metadata": {
  "kernelspec": {
   "display_name": "Python 3",
   "language": "python",
   "name": "python3"
  },
  "language_info": {
   "codemirror_mode": {
    "name": "ipython",
    "version": 3
   },
   "file_extension": ".py",
   "mimetype": "text/x-python",
   "name": "python",
   "nbconvert_exporter": "python",
   "pygments_lexer": "ipython3",
   "version": "3.7.3"
  }
 },
 "nbformat": 4,
 "nbformat_minor": 2
}
